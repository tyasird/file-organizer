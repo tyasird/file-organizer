{
 "cells": [
  {
   "cell_type": "code",
   "execution_count": 1,
   "metadata": {
    "collapsed": true,
    "execution": {
     "iopub.execute_input": "2021-03-09T13:04:26.935902Z",
     "iopub.status.busy": "2021-03-09T13:04:26.934905Z",
     "iopub.status.idle": "2021-03-09T13:04:32.473494Z",
     "shell.execute_reply": "2021-03-09T13:04:32.471496Z",
     "shell.execute_reply.started": "2021-03-09T13:04:26.935902Z"
    },
    "jupyter": {
     "outputs_hidden": true
    }
   },
   "outputs": [
    {
     "name": "stdout",
     "output_type": "stream",
     "text": [
      "Collecting ExifReader\n",
      "  Downloading ExifReader-0.1.1-py3-none-any.whl (37 kB)\n",
      "Requirement already satisfied: defusedxml>=0.6.0 in c:\\users\\yasird\\anaconda3\\envs\\py37\\lib\\site-packages (from ExifReader) (0.6.0)Note: you may need to restart the kernel to use updated packages.\n",
      "\n",
      "Installing collected packages: ExifReader\n",
      "Successfully installed ExifReader-0.1.1\n"
     ]
    }
   ],
   "source": [
    "%pip install ExifReader"
   ]
  },
  {
   "cell_type": "code",
   "execution_count": 1,
   "metadata": {
    "execution": {
     "iopub.execute_input": "2021-03-09T14:46:19.322395Z",
     "iopub.status.busy": "2021-03-09T14:46:19.321380Z",
     "iopub.status.idle": "2021-03-09T14:46:19.342367Z",
     "shell.execute_reply": "2021-03-09T14:46:19.341364Z",
     "shell.execute_reply.started": "2021-03-09T14:46:19.322395Z"
    }
   },
   "outputs": [],
   "source": [
    "import glob\n",
    "import exifreader\n",
    "import datetime\n",
    "import os"
   ]
  },
  {
   "cell_type": "code",
   "execution_count": 15,
   "metadata": {
    "execution": {
     "iopub.execute_input": "2021-03-09T14:49:21.190741Z",
     "iopub.status.busy": "2021-03-09T14:49:21.190741Z",
     "iopub.status.idle": "2021-03-09T14:49:21.211727Z",
     "shell.execute_reply": "2021-03-09T14:49:21.210726Z",
     "shell.execute_reply.started": "2021-03-09T14:49:21.190741Z"
    }
   },
   "outputs": [],
   "source": [
    "out_dir = 'C:/Users/yasird/Desktop/output/'\n",
    "input_dir = 'C:/Users/yasird/Desktop/input/'\n",
    "files = glob.glob(input_dir+\"*.jpg\")"
   ]
  },
  {
   "cell_type": "code",
   "execution_count": 48,
   "metadata": {
    "execution": {
     "iopub.execute_input": "2021-03-09T16:09:17.725663Z",
     "iopub.status.busy": "2021-03-09T16:09:17.725663Z",
     "iopub.status.idle": "2021-03-09T16:09:17.731674Z",
     "shell.execute_reply": "2021-03-09T16:09:17.730664Z",
     "shell.execute_reply.started": "2021-03-09T16:09:17.725663Z"
    }
   },
   "outputs": [],
   "source": [
    "def date_to_foldername(d):\n",
    "    date = datetime.datetime.strptime(d, \"%Y:%m:%d %H:%M:%S\")\n",
    "    return '%s - %s' %(date.year , date.month)\n",
    "\n",
    "def move(filedatelist):\n",
    "    date = datetime.datetime.strptime(filedatelist[1], \"%Y:%m:%d %H:%M:%S\")\n",
    "    filename = os.path.basename(filedatelist[0])\n",
    "    os.replace(filedatelist[0], out_dir+date_to_foldername(filedatelist[1])+ '/'+filename)"
   ]
  },
  {
   "cell_type": "code",
   "execution_count": 40,
   "metadata": {
    "execution": {
     "iopub.execute_input": "2021-03-09T16:07:23.248111Z",
     "iopub.status.busy": "2021-03-09T16:07:23.248111Z",
     "iopub.status.idle": "2021-03-09T16:07:23.517474Z",
     "shell.execute_reply": "2021-03-09T16:07:23.516474Z",
     "shell.execute_reply.started": "2021-03-09T16:07:23.248111Z"
    }
   },
   "outputs": [],
   "source": [
    "dates = []\n",
    "folder_names = []\n",
    "\n",
    "for k, f in enumerate(files):\n",
    "    with open(f, 'rb') as o:\n",
    "        tags = exifreader.process_file(o, details=False)\n",
    "      \n",
    "        if tags['Image DateTime']:\n",
    "            dates.append([f, str(tags['Image DateTime']) ])\n",
    "        else:\n",
    "            dates.append([f, str(tags['EXIF DateTimeOriginal']) ])\n",
    "\n",
    "            \n",
    "for _,d in dates:\n",
    "    date = datetime.datetime.strptime(d, \"%Y:%m:%d %H:%M:%S\")\n",
    "    folder_names.append('%s - %02d' %(date.year , date.month))\n",
    "\n",
    "\n",
    "for u in list(set(folder_names)):\n",
    "    if not os.path.exists(out_dir+u):\n",
    "        os.mkdir(out_dir+u)\n",
    " \n",
    "\n",
    "for d in dates:\n",
    "    move(d)\n",
    "\n",
    "    \n",
    "for dirs in glob.glob(out_dir+'*'):\n",
    "    for k,file in enumerate(glob.glob(dirs+'/*')):\n",
    "        newfilename = ('%s/%s.%s' % (os.path.dirname(file), k+1,os.path.basename(file).split('.')[1]))\n",
    "        os.replace(file, newfilename)"
   ]
  }
 ],
 "metadata": {
  "kernelspec": {
   "display_name": "Python 3",
   "language": "python",
   "name": "python3"
  },
  "language_info": {
   "codemirror_mode": {
    "name": "ipython",
    "version": 3
   },
   "file_extension": ".py",
   "mimetype": "text/x-python",
   "name": "python",
   "nbconvert_exporter": "python",
   "pygments_lexer": "ipython3",
   "version": "3.7.9"
  }
 },
 "nbformat": 4,
 "nbformat_minor": 4
}
