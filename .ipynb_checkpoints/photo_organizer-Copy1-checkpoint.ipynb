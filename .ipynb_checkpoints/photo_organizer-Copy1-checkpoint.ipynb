{
 "cells": [
  {
   "cell_type": "code",
   "execution_count": 1,
   "metadata": {
    "execution": {
     "iopub.execute_input": "2021-03-09T13:04:26.935902Z",
     "iopub.status.busy": "2021-03-09T13:04:26.934905Z",
     "iopub.status.idle": "2021-03-09T13:04:32.473494Z",
     "shell.execute_reply": "2021-03-09T13:04:32.471496Z",
     "shell.execute_reply.started": "2021-03-09T13:04:26.935902Z"
    }
   },
   "outputs": [
    {
     "name": "stdout",
     "output_type": "stream",
     "text": [
      "Collecting ExifReader\n",
      "  Downloading ExifReader-0.1.1-py3-none-any.whl (37 kB)\n",
      "Requirement already satisfied: defusedxml>=0.6.0 in c:\\users\\yasird\\anaconda3\\envs\\py37\\lib\\site-packages (from ExifReader) (0.6.0)Note: you may need to restart the kernel to use updated packages.\n",
      "\n",
      "Installing collected packages: ExifReader\n",
      "Successfully installed ExifReader-0.1.1\n"
     ]
    }
   ],
   "source": [
    "%pip install ExifReader"
   ]
  },
  {
   "cell_type": "code",
   "execution_count": 1,
   "metadata": {
    "execution": {
     "iopub.execute_input": "2021-03-21T12:29:05.253198Z",
     "iopub.status.busy": "2021-03-21T12:29:05.252199Z",
     "iopub.status.idle": "2021-03-21T12:29:05.291913Z",
     "shell.execute_reply": "2021-03-21T12:29:05.289899Z",
     "shell.execute_reply.started": "2021-03-21T12:29:05.253198Z"
    }
   },
   "outputs": [],
   "source": [
    "import glob\n",
    "import exifreader\n",
    "import datetime\n",
    "import os\n",
    "import ospath\n",
    "import posixpath"
   ]
  },
  {
   "cell_type": "code",
   "execution_count": 15,
   "metadata": {
    "execution": {
     "iopub.execute_input": "2021-03-21T12:39:49.849939Z",
     "iopub.status.busy": "2021-03-21T12:39:49.849939Z",
     "iopub.status.idle": "2021-03-21T12:39:49.874929Z",
     "shell.execute_reply": "2021-03-21T12:39:49.873922Z",
     "shell.execute_reply.started": "2021-03-21T12:39:49.849939Z"
    }
   },
   "outputs": [],
   "source": [
    "file_types = ['*.jpg', '*.jpeg', '*.png', '*.mov']\n",
    "out_dir = 'C:/Users/yasird/Desktop/output/'\n",
    "input_dir = 'C:/Users/yasird/Desktop/input/'"
   ]
  },
  {
   "cell_type": "code",
   "execution_count": null,
   "metadata": {},
   "outputs": [],
   "source": [
    "files = []\n",
    "for ftype in file_types:\n",
    "    files.append(glob.glob(input_dir+'/*/'+ftype))\n",
    "\n",
    "# convert list of list to list    \n",
    "files = sum(files, [])"
   ]
  },
  {
   "cell_type": "code",
   "execution_count": 81,
   "metadata": {
    "execution": {
     "iopub.execute_input": "2021-03-21T13:59:11.864168Z",
     "iopub.status.busy": "2021-03-21T13:59:11.863180Z",
     "iopub.status.idle": "2021-03-21T13:59:11.884182Z",
     "shell.execute_reply": "2021-03-21T13:59:11.882161Z",
     "shell.execute_reply.started": "2021-03-21T13:59:11.864168Z"
    }
   },
   "outputs": [],
   "source": [
    "def date_to_foldername(d):\n",
    "    date = datetime.datetime.strptime(d, \"%Y:%m:%d %H:%M:%S\")\n",
    "    return '%s_%02d' %(date.year , date.month)\n",
    "\n",
    "def move(filedatelist):\n",
    "    date = datetime.datetime.strptime(filedatelist[1], \"%Y:%m:%d %H:%M:%S\")\n",
    "    filename = os.path.basename(filedatelist[0])\n",
    "    new_name = os.path.join(out_dir + date_to_foldername(filedatelist[1]), filename)\n",
    "    os.replace(posixpath.join(*filedatelist[0].split('\\\\')), posixpath.join(*new_name.split('\\\\')))\n",
    "    \n",
    "def modification_date(filename):\n",
    "    t = os.path.getmtime(filename)\n",
    "    return datetime.datetime.fromtimestamp(int(t)).strftime('%Y:%m:%d %H:%M:%S')"
   ]
  },
  {
   "cell_type": "code",
   "execution_count": 82,
   "metadata": {
    "execution": {
     "iopub.execute_input": "2021-03-21T13:59:15.285075Z",
     "iopub.status.busy": "2021-03-21T13:59:15.285075Z",
     "iopub.status.idle": "2021-03-21T13:59:16.595075Z",
     "shell.execute_reply": "2021-03-21T13:59:16.593072Z",
     "shell.execute_reply.started": "2021-03-21T13:59:15.285075Z"
    }
   },
   "outputs": [],
   "source": [
    "dates = []\n",
    "folder_names = []\n",
    "\n",
    "for k, f in enumerate(files):\n",
    "    with open(f, 'rb') as o:\n",
    "        tags = exifreader.process_file(o, details=False)\n",
    "      \n",
    "        if tags.get('Image DateTime'):\n",
    "            dates.append([f, str(tags['Image DateTime']) ])\n",
    "        elif tags.get('EXIF DateTimeOriginal'):\n",
    "            dates.append([f, str(tags['EXIF DateTimeOriginal']) ])\n",
    "        else:\n",
    "            dates.append([f, str(modification_date(f)) ])\n",
    "\n",
    "for _,d in dates:\n",
    "    date = datetime.datetime.strptime(d, \"%Y:%m:%d %H:%M:%S\")\n",
    "    folder_names.append('%s_%02d' %(date.year , date.month))\n",
    "\n",
    "\n",
    "for u in list(set(folder_names)):\n",
    "    if not os.path.exists(out_dir+u):\n",
    "        os.mkdir(out_dir+u)\n",
    " \n",
    "\n",
    "for d in dates:\n",
    "    move(d)\n",
    "\n",
    "    \n",
    "for dirs in glob.glob(out_dir+'*'):\n",
    "    for k,file in enumerate(glob.glob(dirs+'/*')):\n",
    "        newfilename = ('%s/%s.%s' % (os.path.dirname(file), k+1,os.path.basename(file).split('.')[1]))\n",
    "        os.replace(file, newfilename)"
   ]
  }
 ],
 "metadata": {
  "kernelspec": {
   "display_name": "Python 3",
   "language": "python",
   "name": "python3"
  },
  "language_info": {
   "codemirror_mode": {
    "name": "ipython",
    "version": 3
   },
   "file_extension": ".py",
   "mimetype": "text/x-python",
   "name": "python",
   "nbconvert_exporter": "python",
   "pygments_lexer": "ipython3",
   "version": "3.7.9"
  }
 },
 "nbformat": 4,
 "nbformat_minor": 4
}
